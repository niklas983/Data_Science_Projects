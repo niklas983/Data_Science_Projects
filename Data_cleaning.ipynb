{
  "cells": [
    {
      "cell_type": "markdown",
      "metadata": {
        "id": "vj84KkFkaTmC"
      },
      "source": [
        "Part 2.\n",
        "Data Wrangling and Exploratory Data Analysis (EDA)"
      ]
    },
    {
      "cell_type": "code",
      "execution_count": null,
      "metadata": {
        "id": "oNEU6f9CW1Uj"
      },
      "outputs": [],
      "source": [
        "import numpy as np\n",
        "import matplotlib.pyplot as plt\n",
        "%matplotlib inline\n",
        "import pandas as pd\n",
        "\n",
        "df = pd.read_csv('/content/real_estate_apart_data.csv', sep = ',')"
      ]
    },
    {
      "cell_type": "code",
      "execution_count": null,
      "metadata": {
        "colab": {
          "base_uri": "https://localhost:8080/"
        },
        "id": "qTc2nIGuZP9K",
        "outputId": "79190188-9ded-4ee0-d5e0-357b7993fe9a"
      },
      "outputs": [
        {
          "name": "stdout",
          "output_type": "stream",
          "text": [
            "<class 'pandas.core.frame.DataFrame'>\n",
            "RangeIndex: 4056 entries, 0 to 4055\n",
            "Data columns (total 7 columns):\n",
            " #   Column        Non-Null Count  Dtype  \n",
            "---  ------        --------------  -----  \n",
            " 0   Status        4056 non-null   object \n",
            " 1   Price         4056 non-null   object \n",
            " 2   Description   4056 non-null   object \n",
            " 3   Location      4056 non-null   object \n",
            " 4   Area          4048 non-null   object \n",
            " 5   No_rooms      4052 non-null   float64\n",
            " 6   No_bathrooms  4019 non-null   float64\n",
            "dtypes: float64(2), object(5)\n",
            "memory usage: 221.9+ KB\n"
          ]
        }
      ],
      "source": [
        "df.info()"
      ]
    },
    {
      "cell_type": "code",
      "execution_count": null,
      "metadata": {
        "colab": {
          "base_uri": "https://localhost:8080/",
          "height": 519
        },
        "id": "2X3gmyJPZP3z",
        "outputId": "f04ad185-1f47-47b3-ce30-634668a23c8b"
      },
      "outputs": [
        {
          "data": {
            "text/html": [
              "\n",
              "  <div id=\"df-02b0c6b2-ce83-4969-9513-b5a615c80b32\" class=\"colab-df-container\">\n",
              "    <div>\n",
              "<style scoped>\n",
              "    .dataframe tbody tr th:only-of-type {\n",
              "        vertical-align: middle;\n",
              "    }\n",
              "\n",
              "    .dataframe tbody tr th {\n",
              "        vertical-align: top;\n",
              "    }\n",
              "\n",
              "    .dataframe thead th {\n",
              "        text-align: right;\n",
              "    }\n",
              "</style>\n",
              "<table border=\"1\" class=\"dataframe\">\n",
              "  <thead>\n",
              "    <tr style=\"text-align: right;\">\n",
              "      <th></th>\n",
              "      <th>Status</th>\n",
              "      <th>Price</th>\n",
              "      <th>Description</th>\n",
              "      <th>Location</th>\n",
              "      <th>Area</th>\n",
              "      <th>No_rooms</th>\n",
              "      <th>No_bathrooms</th>\n",
              "    </tr>\n",
              "  </thead>\n",
              "  <tbody>\n",
              "    <tr>\n",
              "      <th>0</th>\n",
              "      <td>Rent</td>\n",
              "      <td>300</td>\n",
              "      <td>2+1 APARTMENT FOR RENT IN ILIRIA BEACH!!</td>\n",
              "      <td>Durrës, Albania</td>\n",
              "      <td>95</td>\n",
              "      <td>2.0</td>\n",
              "      <td>1.0</td>\n",
              "    </tr>\n",
              "    <tr>\n",
              "      <th>1</th>\n",
              "      <td>Rent</td>\n",
              "      <td>350</td>\n",
              "      <td>APARTMENT 1+1 FOR RENT</td>\n",
              "      <td>Vlorë, Albania</td>\n",
              "      <td>90</td>\n",
              "      <td>1.0</td>\n",
              "      <td>1.0</td>\n",
              "    </tr>\n",
              "    <tr>\n",
              "      <th>2</th>\n",
              "      <td>Sale</td>\n",
              "      <td>78,200</td>\n",
              "      <td>1+1 APARTMENT FOR SALE IN MAL TE ROBIT!</td>\n",
              "      <td>Durrës, Albania</td>\n",
              "      <td>68</td>\n",
              "      <td>1.0</td>\n",
              "      <td>1.0</td>\n",
              "    </tr>\n",
              "    <tr>\n",
              "      <th>3</th>\n",
              "      <td>Sale</td>\n",
              "      <td>78,200</td>\n",
              "      <td>1+1 APARTMENT FOR SALE IN MAL TE ROBIT!</td>\n",
              "      <td>Durrës, Albania</td>\n",
              "      <td>68</td>\n",
              "      <td>1.0</td>\n",
              "      <td>1.0</td>\n",
              "    </tr>\n",
              "    <tr>\n",
              "      <th>4</th>\n",
              "      <td>Rent</td>\n",
              "      <td>600</td>\n",
              "      <td>1+1 APARTMENT FOR RENT MUNICIPALITY OF PARIS!</td>\n",
              "      <td>Kompleksi Kika 1 Tirana, Albania</td>\n",
              "      <td>70</td>\n",
              "      <td>1.0</td>\n",
              "      <td>1.0</td>\n",
              "    </tr>\n",
              "    <tr>\n",
              "      <th>5</th>\n",
              "      <td>Rent</td>\n",
              "      <td>1,200</td>\n",
              "      <td>SUPER APARTMENT FOR RENT 2+1+2 NEAR THE BOTANI...</td>\n",
              "      <td>Tirana, Albania</td>\n",
              "      <td>125</td>\n",
              "      <td>2.0</td>\n",
              "      <td>2.0</td>\n",
              "    </tr>\n",
              "    <tr>\n",
              "      <th>6</th>\n",
              "      <td>Sale</td>\n",
              "      <td>Price upon reque</td>\n",
              "      <td>APARTMENT FOR SALE 3+1+2 TOILET IN NEW BUILDIN...</td>\n",
              "      <td>RRUGA MOSKAT Tirana, Albania</td>\n",
              "      <td>220</td>\n",
              "      <td>3.0</td>\n",
              "      <td>2.0</td>\n",
              "    </tr>\n",
              "    <tr>\n",
              "      <th>7</th>\n",
              "      <td>Sale</td>\n",
              "      <td>310,000</td>\n",
              "      <td>APARTMENT 3+1+2 FOR SALE IN \"DRY LAKE\"!</td>\n",
              "      <td>Liqeni i Thate Tirana, Albania</td>\n",
              "      <td>180</td>\n",
              "      <td>3.0</td>\n",
              "      <td>2.0</td>\n",
              "    </tr>\n",
              "    <tr>\n",
              "      <th>8</th>\n",
              "      <td>Rent</td>\n",
              "      <td>700</td>\n",
              "      <td>APARTMENT 2 +1+2 FOR RENT NEAR THE MUNICIPALIT...</td>\n",
              "      <td>Tirana, Albania</td>\n",
              "      <td>97</td>\n",
              "      <td>2.0</td>\n",
              "      <td>2.0</td>\n",
              "    </tr>\n",
              "    <tr>\n",
              "      <th>9</th>\n",
              "      <td>Rent</td>\n",
              "      <td>1,250</td>\n",
              "      <td>2+1 apartment for rent at LICEU</td>\n",
              "      <td>Rruga Themistokli Germenji Tirana, Albania</td>\n",
              "      <td>120</td>\n",
              "      <td>2.0</td>\n",
              "      <td>2.0</td>\n",
              "    </tr>\n",
              "  </tbody>\n",
              "</table>\n",
              "</div>\n",
              "    <div class=\"colab-df-buttons\">\n",
              "\n",
              "  <div class=\"colab-df-container\">\n",
              "    <button class=\"colab-df-convert\" onclick=\"convertToInteractive('df-02b0c6b2-ce83-4969-9513-b5a615c80b32')\"\n",
              "            title=\"Convert this dataframe to an interactive table.\"\n",
              "            style=\"display:none;\">\n",
              "\n",
              "  <svg xmlns=\"http://www.w3.org/2000/svg\" height=\"24px\" viewBox=\"0 -960 960 960\">\n",
              "    <path d=\"M120-120v-720h720v720H120Zm60-500h600v-160H180v160Zm220 220h160v-160H400v160Zm0 220h160v-160H400v160ZM180-400h160v-160H180v160Zm440 0h160v-160H620v160ZM180-180h160v-160H180v160Zm440 0h160v-160H620v160Z\"/>\n",
              "  </svg>\n",
              "    </button>\n",
              "\n",
              "  <style>\n",
              "    .colab-df-container {\n",
              "      display:flex;\n",
              "      gap: 12px;\n",
              "    }\n",
              "\n",
              "    .colab-df-convert {\n",
              "      background-color: #E8F0FE;\n",
              "      border: none;\n",
              "      border-radius: 50%;\n",
              "      cursor: pointer;\n",
              "      display: none;\n",
              "      fill: #1967D2;\n",
              "      height: 32px;\n",
              "      padding: 0 0 0 0;\n",
              "      width: 32px;\n",
              "    }\n",
              "\n",
              "    .colab-df-convert:hover {\n",
              "      background-color: #E2EBFA;\n",
              "      box-shadow: 0px 1px 2px rgba(60, 64, 67, 0.3), 0px 1px 3px 1px rgba(60, 64, 67, 0.15);\n",
              "      fill: #174EA6;\n",
              "    }\n",
              "\n",
              "    .colab-df-buttons div {\n",
              "      margin-bottom: 4px;\n",
              "    }\n",
              "\n",
              "    [theme=dark] .colab-df-convert {\n",
              "      background-color: #3B4455;\n",
              "      fill: #D2E3FC;\n",
              "    }\n",
              "\n",
              "    [theme=dark] .colab-df-convert:hover {\n",
              "      background-color: #434B5C;\n",
              "      box-shadow: 0px 1px 3px 1px rgba(0, 0, 0, 0.15);\n",
              "      filter: drop-shadow(0px 1px 2px rgba(0, 0, 0, 0.3));\n",
              "      fill: #FFFFFF;\n",
              "    }\n",
              "  </style>\n",
              "\n",
              "    <script>\n",
              "      const buttonEl =\n",
              "        document.querySelector('#df-02b0c6b2-ce83-4969-9513-b5a615c80b32 button.colab-df-convert');\n",
              "      buttonEl.style.display =\n",
              "        google.colab.kernel.accessAllowed ? 'block' : 'none';\n",
              "\n",
              "      async function convertToInteractive(key) {\n",
              "        const element = document.querySelector('#df-02b0c6b2-ce83-4969-9513-b5a615c80b32');\n",
              "        const dataTable =\n",
              "          await google.colab.kernel.invokeFunction('convertToInteractive',\n",
              "                                                    [key], {});\n",
              "        if (!dataTable) return;\n",
              "\n",
              "        const docLinkHtml = 'Like what you see? Visit the ' +\n",
              "          '<a target=\"_blank\" href=https://colab.research.google.com/notebooks/data_table.ipynb>data table notebook</a>'\n",
              "          + ' to learn more about interactive tables.';\n",
              "        element.innerHTML = '';\n",
              "        dataTable['output_type'] = 'display_data';\n",
              "        await google.colab.output.renderOutput(dataTable, element);\n",
              "        const docLink = document.createElement('div');\n",
              "        docLink.innerHTML = docLinkHtml;\n",
              "        element.appendChild(docLink);\n",
              "      }\n",
              "    </script>\n",
              "  </div>\n",
              "\n",
              "\n",
              "<div id=\"df-c9238793-65c0-4ae3-8987-51c865e08302\">\n",
              "  <button class=\"colab-df-quickchart\" onclick=\"quickchart('df-c9238793-65c0-4ae3-8987-51c865e08302')\"\n",
              "            title=\"Suggest charts.\"\n",
              "            style=\"display:none;\">\n",
              "\n",
              "<svg xmlns=\"http://www.w3.org/2000/svg\" height=\"24px\"viewBox=\"0 0 24 24\"\n",
              "     width=\"24px\">\n",
              "    <g>\n",
              "        <path d=\"M19 3H5c-1.1 0-2 .9-2 2v14c0 1.1.9 2 2 2h14c1.1 0 2-.9 2-2V5c0-1.1-.9-2-2-2zM9 17H7v-7h2v7zm4 0h-2V7h2v10zm4 0h-2v-4h2v4z\"/>\n",
              "    </g>\n",
              "</svg>\n",
              "  </button>\n",
              "\n",
              "<style>\n",
              "  .colab-df-quickchart {\n",
              "      --bg-color: #E8F0FE;\n",
              "      --fill-color: #1967D2;\n",
              "      --hover-bg-color: #E2EBFA;\n",
              "      --hover-fill-color: #174EA6;\n",
              "      --disabled-fill-color: #AAA;\n",
              "      --disabled-bg-color: #DDD;\n",
              "  }\n",
              "\n",
              "  [theme=dark] .colab-df-quickchart {\n",
              "      --bg-color: #3B4455;\n",
              "      --fill-color: #D2E3FC;\n",
              "      --hover-bg-color: #434B5C;\n",
              "      --hover-fill-color: #FFFFFF;\n",
              "      --disabled-bg-color: #3B4455;\n",
              "      --disabled-fill-color: #666;\n",
              "  }\n",
              "\n",
              "  .colab-df-quickchart {\n",
              "    background-color: var(--bg-color);\n",
              "    border: none;\n",
              "    border-radius: 50%;\n",
              "    cursor: pointer;\n",
              "    display: none;\n",
              "    fill: var(--fill-color);\n",
              "    height: 32px;\n",
              "    padding: 0;\n",
              "    width: 32px;\n",
              "  }\n",
              "\n",
              "  .colab-df-quickchart:hover {\n",
              "    background-color: var(--hover-bg-color);\n",
              "    box-shadow: 0 1px 2px rgba(60, 64, 67, 0.3), 0 1px 3px 1px rgba(60, 64, 67, 0.15);\n",
              "    fill: var(--button-hover-fill-color);\n",
              "  }\n",
              "\n",
              "  .colab-df-quickchart-complete:disabled,\n",
              "  .colab-df-quickchart-complete:disabled:hover {\n",
              "    background-color: var(--disabled-bg-color);\n",
              "    fill: var(--disabled-fill-color);\n",
              "    box-shadow: none;\n",
              "  }\n",
              "\n",
              "  .colab-df-spinner {\n",
              "    border: 2px solid var(--fill-color);\n",
              "    border-color: transparent;\n",
              "    border-bottom-color: var(--fill-color);\n",
              "    animation:\n",
              "      spin 1s steps(1) infinite;\n",
              "  }\n",
              "\n",
              "  @keyframes spin {\n",
              "    0% {\n",
              "      border-color: transparent;\n",
              "      border-bottom-color: var(--fill-color);\n",
              "      border-left-color: var(--fill-color);\n",
              "    }\n",
              "    20% {\n",
              "      border-color: transparent;\n",
              "      border-left-color: var(--fill-color);\n",
              "      border-top-color: var(--fill-color);\n",
              "    }\n",
              "    30% {\n",
              "      border-color: transparent;\n",
              "      border-left-color: var(--fill-color);\n",
              "      border-top-color: var(--fill-color);\n",
              "      border-right-color: var(--fill-color);\n",
              "    }\n",
              "    40% {\n",
              "      border-color: transparent;\n",
              "      border-right-color: var(--fill-color);\n",
              "      border-top-color: var(--fill-color);\n",
              "    }\n",
              "    60% {\n",
              "      border-color: transparent;\n",
              "      border-right-color: var(--fill-color);\n",
              "    }\n",
              "    80% {\n",
              "      border-color: transparent;\n",
              "      border-right-color: var(--fill-color);\n",
              "      border-bottom-color: var(--fill-color);\n",
              "    }\n",
              "    90% {\n",
              "      border-color: transparent;\n",
              "      border-bottom-color: var(--fill-color);\n",
              "    }\n",
              "  }\n",
              "</style>\n",
              "\n",
              "  <script>\n",
              "    async function quickchart(key) {\n",
              "      const quickchartButtonEl =\n",
              "        document.querySelector('#' + key + ' button');\n",
              "      quickchartButtonEl.disabled = true;  // To prevent multiple clicks.\n",
              "      quickchartButtonEl.classList.add('colab-df-spinner');\n",
              "      try {\n",
              "        const charts = await google.colab.kernel.invokeFunction(\n",
              "            'suggestCharts', [key], {});\n",
              "      } catch (error) {\n",
              "        console.error('Error during call to suggestCharts:', error);\n",
              "      }\n",
              "      quickchartButtonEl.classList.remove('colab-df-spinner');\n",
              "      quickchartButtonEl.classList.add('colab-df-quickchart-complete');\n",
              "    }\n",
              "    (() => {\n",
              "      let quickchartButtonEl =\n",
              "        document.querySelector('#df-c9238793-65c0-4ae3-8987-51c865e08302 button');\n",
              "      quickchartButtonEl.style.display =\n",
              "        google.colab.kernel.accessAllowed ? 'block' : 'none';\n",
              "    })();\n",
              "  </script>\n",
              "</div>\n",
              "    </div>\n",
              "  </div>\n"
            ],
            "text/plain": [
              "  Status             Price                                        Description  \\\n",
              "0   Rent               300           2+1 APARTMENT FOR RENT IN ILIRIA BEACH!!   \n",
              "1   Rent               350                             APARTMENT 1+1 FOR RENT   \n",
              "2   Sale            78,200            1+1 APARTMENT FOR SALE IN MAL TE ROBIT!   \n",
              "3   Sale            78,200            1+1 APARTMENT FOR SALE IN MAL TE ROBIT!   \n",
              "4   Rent               600      1+1 APARTMENT FOR RENT MUNICIPALITY OF PARIS!   \n",
              "5   Rent             1,200  SUPER APARTMENT FOR RENT 2+1+2 NEAR THE BOTANI...   \n",
              "6   Sale  Price upon reque  APARTMENT FOR SALE 3+1+2 TOILET IN NEW BUILDIN...   \n",
              "7   Sale           310,000            APARTMENT 3+1+2 FOR SALE IN \"DRY LAKE\"!   \n",
              "8   Rent               700  APARTMENT 2 +1+2 FOR RENT NEAR THE MUNICIPALIT...   \n",
              "9   Rent             1,250                    2+1 apartment for rent at LICEU   \n",
              "\n",
              "                                     Location Area  No_rooms  No_bathrooms  \n",
              "0                             Durrës, Albania   95       2.0           1.0  \n",
              "1                              Vlorë, Albania   90       1.0           1.0  \n",
              "2                             Durrës, Albania   68       1.0           1.0  \n",
              "3                             Durrës, Albania   68       1.0           1.0  \n",
              "4            Kompleksi Kika 1 Tirana, Albania   70       1.0           1.0  \n",
              "5                             Tirana, Albania  125       2.0           2.0  \n",
              "6                RRUGA MOSKAT Tirana, Albania  220       3.0           2.0  \n",
              "7              Liqeni i Thate Tirana, Albania  180       3.0           2.0  \n",
              "8                             Tirana, Albania   97       2.0           2.0  \n",
              "9  Rruga Themistokli Germenji Tirana, Albania  120       2.0           2.0  "
            ]
          },
          "execution_count": 122,
          "metadata": {},
          "output_type": "execute_result"
        }
      ],
      "source": [
        "df.head(10)"
      ]
    },
    {
      "cell_type": "markdown",
      "metadata": {
        "id": "O9TM-YC4al4T"
      },
      "source": [
        "Here's a short info about the columns:\n",
        "\n",
        "Status -> Status of the property, On sale, For rent, Reserved, etc.\n",
        "\n",
        "Price -> Total price in Euro for the propery on sale/rent\n",
        "\n",
        "Description -> Long description of the object being on sale/rent, sometimes including location.\n",
        "\n",
        "Location -> City of the property, sometimes also information about the street or neighbourhood\n",
        "\n",
        "Area -> Area in m2 (Some missing values)\n",
        "\n",
        "No_rooms -> No. of rooms in the property (We have some missing values here, and probably some wrong ones from the scraping)\n",
        "\n",
        "No_bathrooms -> No. of bathrooms in the property (We have some missing values here, and probably some wrong ones from the scraping)\n",
        "\n",
        "\n",
        "As we can see from info and head method, we have 4056 entries with 7 features. Now, let's start the data cleaning process. First of all, I will discuss the Location column, as the famous real-estate quote goes: \"Location, location, location.\" The Location column contains the city and country (ofc always Albania) of the property, but sometimes it also contains a very important information about the address of the property. This last bit of information is sometimes included in the Description column. The Location column will store only the address (if available) and another column will be added to the dataframe, storing the City."
      ]
    },
    {
      "cell_type": "code",
      "execution_count": null,
      "metadata": {
        "colab": {
          "base_uri": "https://localhost:8080/"
        },
        "id": "WuiO8vqBbeam",
        "outputId": "4eb6a44b-ec2c-4642-b7e4-62a23679e235"
      },
      "outputs": [
        {
          "data": {
            "text/plain": [
              "Tirana          2292\n",
              "Durrës          1201\n",
              "Vlorë            203\n",
              "Sarandë          147\n",
              "Shëngjin          75\n",
              "Shkodër           46\n",
              "Korçë             40\n",
              "Kavajë            16\n",
              "Kamëz             12\n",
              "Pogradec           9\n",
              "Lezhë              4\n",
              "Lushnje            3\n",
              "Fier               3\n",
              "Elbasan            3\n",
              "Krujë              1\n",
              "Sarand&euml;       1\n",
              "Name: City, dtype: int64"
            ]
          },
          "execution_count": 123,
          "metadata": {},
          "output_type": "execute_result"
        }
      ],
      "source": [
        "df['City'] = df['Location'].apply(lambda x: x.split()[-2])\n",
        "df['City'] = df['City'].str.replace(',', '')\n",
        "df['Location'] = df['Location'].apply(lambda x: ' '.join(x.split()[0:-2]))\n",
        "\n",
        "df['City'].value_counts()\n"
      ]
    },
    {
      "cell_type": "markdown",
      "metadata": {
        "id": "oHD5C7_0XMq_"
      },
      "source": [
        "There are cities with less than 10 properties, which makes a small number considering there will also be a split in rented and on sale. So, it's better to remove these rows."
      ]
    },
    {
      "cell_type": "code",
      "execution_count": null,
      "metadata": {
        "id": "hfjVROc8XkqA"
      },
      "outputs": [],
      "source": [
        "cities_to_remove = ['Pogradec', 'Lezhë', 'Lushnje', 'Fier', 'Elbasan', 'Krujë', 'Sarand&euml;']\n",
        "df = df[~df['City'].isin(cities_to_remove)]"
      ]
    },
    {
      "cell_type": "code",
      "execution_count": null,
      "metadata": {
        "colab": {
          "base_uri": "https://localhost:8080/"
        },
        "id": "jUXLCQ5jXtQ3",
        "outputId": "17b84ee0-349f-4238-aef7-07ddd3f9386e"
      },
      "outputs": [
        {
          "data": {
            "text/plain": [
              "Price upon reque    359\n",
              "500                  66\n",
              "400                  66\n",
              "600                  65\n",
              "300                  59\n",
              "                   ... \n",
              "128,900               1\n",
              "131,220               1\n",
              "104,700               1\n",
              "62,100                1\n",
              "26,500                1\n",
              "Name: Price, Length: 968, dtype: int64"
            ]
          },
          "execution_count": 125,
          "metadata": {},
          "output_type": "execute_result"
        }
      ],
      "source": [
        "df['Price'].value_counts()"
      ]
    },
    {
      "cell_type": "markdown",
      "metadata": {
        "id": "s0Zvm33iQpLv"
      },
      "source": [
        "When checking the Price column with the value_counts method, we see a long string ('Price upon reque') meaning that the price for some properties is available only when contacting the respective agent. So, without the price, these rows become meaningless and removing them is the only option left."
      ]
    },
    {
      "cell_type": "code",
      "execution_count": null,
      "metadata": {
        "colab": {
          "base_uri": "https://localhost:8080/"
        },
        "id": "3It_ehxEbedX",
        "outputId": "1b351aaf-d993-4575-b174-6b18f2deee31"
      },
      "outputs": [
        {
          "name": "stdout",
          "output_type": "stream",
          "text": [
            "<class 'pandas.core.frame.DataFrame'>\n",
            "Int64Index: 3673 entries, 0 to 4054\n",
            "Data columns (total 8 columns):\n",
            " #   Column        Non-Null Count  Dtype  \n",
            "---  ------        --------------  -----  \n",
            " 0   Status        3673 non-null   object \n",
            " 1   Price         3673 non-null   object \n",
            " 2   Description   3673 non-null   object \n",
            " 3   Location      3673 non-null   object \n",
            " 4   Area          3669 non-null   object \n",
            " 5   No_rooms      3671 non-null   float64\n",
            " 6   No_bathrooms  3641 non-null   float64\n",
            " 7   City          3673 non-null   object \n",
            "dtypes: float64(2), object(6)\n",
            "memory usage: 258.3+ KB\n"
          ]
        }
      ],
      "source": [
        "df = df[df['Price'] != 'Price upon reque']\n",
        "df.info()"
      ]
    },
    {
      "cell_type": "markdown",
      "metadata": {
        "id": "FawjzTZBYBsp"
      },
      "source": [
        "We have only the priced apartaments in our dataframe, 3546 entries. Now,  let's select from the dataframe only the rows which have the no_bathrooms less than or equal to 3.  "
      ]
    },
    {
      "cell_type": "code",
      "execution_count": null,
      "metadata": {
        "colab": {
          "base_uri": "https://localhost:8080/"
        },
        "id": "KbffTzRkZ6so",
        "outputId": "1dfc18d1-1f0b-4b5b-c2f3-2ede836693ad"
      },
      "outputs": [
        {
          "data": {
            "text/plain": [
              "1.0       2183\n",
              "2.0       1347\n",
              "3.0         73\n",
              "4.0          8\n",
              "5.0          5\n",
              "6.0          3\n",
              "12.0         2\n",
              "14.0         1\n",
              "332.0        1\n",
              "7.0          1\n",
              "173.0        1\n",
              "192.0        1\n",
              "1096.0       1\n",
              "216.0        1\n",
              "260.0        1\n",
              "604.0        1\n",
              "9.0          1\n",
              "139.0        1\n",
              "114.0        1\n",
              "121.0        1\n",
              "55.0         1\n",
              "211.0        1\n",
              "46.0         1\n",
              "10.0         1\n",
              "50.0         1\n",
              "82.0         1\n",
              "3410.0       1\n",
              "Name: No_bathrooms, dtype: int64"
            ]
          },
          "execution_count": 127,
          "metadata": {},
          "output_type": "execute_result"
        }
      ],
      "source": [
        "df['No_bathrooms'].value_counts()"
      ]
    },
    {
      "cell_type": "code",
      "execution_count": null,
      "metadata": {
        "colab": {
          "base_uri": "https://localhost:8080/"
        },
        "id": "jzhyBaBTg_4K",
        "outputId": "98800ff3-5178-43c1-817d-5fe3b67dba4f"
      },
      "outputs": [
        {
          "data": {
            "text/plain": [
              "2.0      1756\n",
              "1.0      1322\n",
              "3.0       491\n",
              "4.0        46\n",
              "5.0        13\n",
              "6.0         4\n",
              "12.0        2\n",
              "7.0         2\n",
              "318.0       1\n",
              "302.0       1\n",
              "169.0       1\n",
              "191.0       1\n",
              "155.0       1\n",
              "149.0       1\n",
              "319.0       1\n",
              "410.0       1\n",
              "221.0       1\n",
              "344.0       1\n",
              "707.0       1\n",
              "340.0       1\n",
              "197.0       1\n",
              "227.0       1\n",
              "569.0       1\n",
              "398.0       1\n",
              "299.0       1\n",
              "806.0       1\n",
              "463.0       1\n",
              "67.0        1\n",
              "100.0       1\n",
              "43.0        1\n",
              "87.0        1\n",
              "55.0        1\n",
              "14.0        1\n",
              "8.0         1\n",
              "86.0        1\n",
              "239.0       1\n",
              "138.0       1\n",
              "18.0        1\n",
              "688.0       1\n",
              "441.0       1\n",
              "10.0        1\n",
              "203.0       1\n",
              "845.0       1\n",
              "Name: No_rooms, dtype: int64"
            ]
          },
          "execution_count": 128,
          "metadata": {},
          "output_type": "execute_result"
        }
      ],
      "source": [
        "df['No_rooms'].value_counts()"
      ]
    },
    {
      "cell_type": "markdown",
      "metadata": {
        "id": "Ep7kWzpRhTTr"
      },
      "source": [
        "Now, let's also remove the properties which have more than 4 rooms. This could potentially remove any luxury apartament with more rooms."
      ]
    },
    {
      "cell_type": "code",
      "execution_count": null,
      "metadata": {
        "id": "q1GyO0eKhzNx"
      },
      "outputs": [],
      "source": [
        "df = df[df['No_rooms'] <= 4]"
      ]
    },
    {
      "cell_type": "code",
      "execution_count": null,
      "metadata": {
        "colab": {
          "base_uri": "https://localhost:8080/"
        },
        "id": "-shZKZx1h7VK",
        "outputId": "e6569f38-4771-40a6-fe0c-420769f71e2e"
      },
      "outputs": [
        {
          "name": "stdout",
          "output_type": "stream",
          "text": [
            "<class 'pandas.core.frame.DataFrame'>\n",
            "Int64Index: 3615 entries, 0 to 4054\n",
            "Data columns (total 8 columns):\n",
            " #   Column        Non-Null Count  Dtype  \n",
            "---  ------        --------------  -----  \n",
            " 0   Status        3615 non-null   object \n",
            " 1   Price         3615 non-null   object \n",
            " 2   Description   3615 non-null   object \n",
            " 3   Location      3615 non-null   object \n",
            " 4   Area          3613 non-null   object \n",
            " 5   No_rooms      3615 non-null   float64\n",
            " 6   No_bathrooms  3615 non-null   float64\n",
            " 7   City          3615 non-null   object \n",
            "dtypes: float64(2), object(6)\n",
            "memory usage: 254.2+ KB\n"
          ]
        }
      ],
      "source": [
        "df.info()"
      ]
    },
    {
      "cell_type": "code",
      "execution_count": null,
      "metadata": {
        "id": "Pt7KCNCcFywD"
      },
      "outputs": [],
      "source": [
        "df= df[df['No_bathrooms'] <= 3]"
      ]
    },
    {
      "cell_type": "code",
      "execution_count": null,
      "metadata": {
        "colab": {
          "base_uri": "https://localhost:8080/"
        },
        "id": "lxMH6cvtGHXb",
        "outputId": "05fb893b-34ac-4005-f31d-4269b866a35c"
      },
      "outputs": [
        {
          "name": "stdout",
          "output_type": "stream",
          "text": [
            "<class 'pandas.core.frame.DataFrame'>\n",
            "Int64Index: 3592 entries, 0 to 4053\n",
            "Data columns (total 8 columns):\n",
            " #   Column        Non-Null Count  Dtype  \n",
            "---  ------        --------------  -----  \n",
            " 0   Status        3592 non-null   object \n",
            " 1   Price         3592 non-null   object \n",
            " 2   Description   3592 non-null   object \n",
            " 3   Location      3592 non-null   object \n",
            " 4   Area          3592 non-null   object \n",
            " 5   No_rooms      3592 non-null   float64\n",
            " 6   No_bathrooms  3592 non-null   float64\n",
            " 7   City          3592 non-null   object \n",
            "dtypes: float64(2), object(6)\n",
            "memory usage: 252.6+ KB\n"
          ]
        }
      ],
      "source": [
        "df.info()"
      ]
    },
    {
      "cell_type": "markdown",
      "metadata": {
        "id": "ntEOsezueYiE"
      },
      "source": [
        "The above 'tricks' looks that achieved our objective. Now we have a dataframe with 3467 non-null entries which includes only apartaments (for rent or on sale) in Albania."
      ]
    },
    {
      "cell_type": "code",
      "execution_count": null,
      "metadata": {
        "colab": {
          "base_uri": "https://localhost:8080/"
        },
        "id": "inTl3AOfUXTr",
        "outputId": "84d83efc-7c68-4bf9-b6fd-0398a3fe953e"
      },
      "outputs": [
        {
          "data": {
            "text/plain": [
              " Sale                2628\n",
              "Rent                  766\n",
              "erved                 184\n",
              "al.in_negotiation      14\n",
              "Name: Status, dtype: int64"
            ]
          },
          "execution_count": 133,
          "metadata": {},
          "output_type": "execute_result"
        }
      ],
      "source": [
        "df['Status'].value_counts()"
      ]
    },
    {
      "cell_type": "markdown",
      "metadata": {
        "id": "OT6mjsxlj19K"
      },
      "source": [
        "The Status column does not have null values, but instead it has a small problem. The third (Reserved property) and fourth (in_negotiation) category have to be converted to On Sale and For Rent, because we're not interested if the property is reserved or already sold.\n",
        "Here, the workaround could be to check the price column and identify what could be a threshold price that could separate sale prices from rent prices. I think that by choosing a threshhold of 6000 euros we are rather safe. But first, we have to remove the comma character in the price column and then convert the column to integer.\n",
        "\n"
      ]
    },
    {
      "cell_type": "code",
      "execution_count": null,
      "metadata": {
        "id": "t8KtethjkKS5"
      },
      "outputs": [],
      "source": [
        "df['Price'] = df['Price'].str.replace(',', '')\n",
        "df['Price'] = df['Price'].astype(int)"
      ]
    },
    {
      "cell_type": "code",
      "execution_count": null,
      "metadata": {
        "id": "V9ry_cfObd_3"
      },
      "outputs": [],
      "source": [
        "threshold = 6000  # Example threshold value 6000 euros.\n",
        "\n",
        "# Create a new 'Category' column based on the threshold\n",
        "df['Category'] = df['Price'].apply(lambda price: 'Sale' if price > threshold else 'Rent')\n"
      ]
    },
    {
      "cell_type": "code",
      "execution_count": null,
      "metadata": {
        "colab": {
          "base_uri": "https://localhost:8080/"
        },
        "id": "MBs1Yr-soqvs",
        "outputId": "6816d572-256c-428b-e05d-9978e4a81ce3"
      },
      "outputs": [
        {
          "data": {
            "text/plain": [
              "Sale    2781\n",
              "Rent     811\n",
              "Name: Category, dtype: int64"
            ]
          },
          "execution_count": 136,
          "metadata": {},
          "output_type": "execute_result"
        }
      ],
      "source": [
        "df['Category'].value_counts()"
      ]
    },
    {
      "cell_type": "markdown",
      "metadata": {
        "id": "RkOae5Wu1BZG"
      },
      "source": [
        "Let's have a sanity check and look at the maximum price for the Rent Status and the minimum price for the Sale category."
      ]
    },
    {
      "cell_type": "code",
      "execution_count": null,
      "metadata": {
        "colab": {
          "base_uri": "https://localhost:8080/"
        },
        "id": "rRFXvhqDHPQ4",
        "outputId": "b364f220-0d87-483e-d9d0-c983e301f1bc"
      },
      "outputs": [
        {
          "name": "stdout",
          "output_type": "stream",
          "text": [
            "Maximum rent price is 5000 Euros\n",
            "Minimum sale price is 14000 Euros\n"
          ]
        }
      ],
      "source": [
        "max_price_for_rent = df[df['Category'] == 'Rent']['Price'].max()\n",
        "min_price_for_sale = df[df['Category'] == 'Sale']['Price'].min()\n",
        "\n",
        "print(f\"Maximum rent price is {max_price_for_rent} Euros\")\n",
        "print(f\"Minimum sale price is {min_price_for_sale} Euros\")"
      ]
    },
    {
      "cell_type": "markdown",
      "metadata": {
        "id": "NbEUC_tFd3dp"
      },
      "source": [
        "As we can see from the output, maybe there's something wrong with the maximum rent price."
      ]
    },
    {
      "cell_type": "code",
      "execution_count": null,
      "metadata": {
        "colab": {
          "base_uri": "https://localhost:8080/"
        },
        "id": "zVscqqRgQfSH",
        "outputId": "6c7770bf-51cc-42f2-8f42-252353b77dae"
      },
      "outputs": [
        {
          "name": "stdout",
          "output_type": "stream",
          "text": [
            "Status                             Rent\n",
            "Price                              5000\n",
            "Description     3+1 apartment for rent!\n",
            "Location            Kompleksi \"Halisof\"\n",
            "Area                                130\n",
            "No_rooms                            3.0\n",
            "No_bathrooms                        2.0\n",
            "City                             Tirana\n",
            "Category                           Rent\n",
            "Name: 493, dtype: object\n"
          ]
        }
      ],
      "source": [
        "max_price_index_for_rent = df[df['Category'] == 'Rent']['Price'].idxmax()\n",
        "max_price_row_for_rent = df.loc[max_price_index_for_rent]\n",
        "\n",
        "print(max_price_row_for_rent)"
      ]
    },
    {
      "cell_type": "markdown",
      "metadata": {
        "id": "i2_Px4auTqTF"
      },
      "source": [
        "By checking the Description of the property, it is okay as it looks like a luxury apartment in a newly build residence."
      ]
    },
    {
      "cell_type": "code",
      "execution_count": null,
      "metadata": {
        "colab": {
          "base_uri": "https://localhost:8080/"
        },
        "id": "s_QhezOSTbhW",
        "outputId": "1b235263-b695-450d-cc3c-8509f11c653b"
      },
      "outputs": [
        {
          "name": "stdout",
          "output_type": "stream",
          "text": [
            "Status                                                       Rent\n",
            "Price                                                          50\n",
            "Description     APARTMENTS FOR DAILY RENT IN THE CENTER OF TIR...\n",
            "Location                                      Rruga Kajo Karafili\n",
            "Area                                                           39\n",
            "No_rooms                                                      1.0\n",
            "No_bathrooms                                                  1.0\n",
            "City                                                       Tirana\n",
            "Category                                                     Rent\n",
            "Name: 1242, dtype: object\n"
          ]
        }
      ],
      "source": [
        "min_price_index_for_rent = df[df['Category'] == 'Rent']['Price'].idxmin()\n",
        "min_price_row_for_rent = df.loc[min_price_index_for_rent]\n",
        "\n",
        "print(min_price_row_for_rent)"
      ]
    },
    {
      "cell_type": "markdown",
      "metadata": {
        "id": "xH_Vx5PFUUg9"
      },
      "source": [
        "AS suspected, this is the price for daily rent, so let's remove it, and rerun the previous code. Now, we have to remove the entries that are daily rents, by removing rows that have a substring 'DAILY' in the Description column. Now, I suspect there are other substring to add, such as 'AIR', 'BnB', and I will also add 'VILLA' in case there might b"
      ]
    },
    {
      "cell_type": "code",
      "execution_count": null,
      "metadata": {
        "id": "InaINYJ9kjHx"
      },
      "outputs": [],
      "source": [
        "import regex as re\n",
        "\n",
        "substrings_to_remove = ['DAILY', 'AIR', 'BnB']\n",
        "\n",
        "# Create a boolean mask that checks if any of the substrings are present in the 'Description' column\n",
        "mask = df['Description'].str.contains('|'.join(map(re.escape, substrings_to_remove)), case=False, regex=True)\n",
        "\n",
        "# Use the mask to filter the DataFrame and keep only rows that don't contain any of the substrings\n",
        "df = df[~mask]"
      ]
    },
    {
      "cell_type": "markdown",
      "metadata": {
        "id": "GP_jj7RIqWuN"
      },
      "source": [
        "Let's drop the 'Status' column. Convert the Area column to integer and\n",
        "then create a new column, Price per sq meter, which will be valuable for further analysis."
      ]
    },
    {
      "cell_type": "code",
      "execution_count": null,
      "metadata": {
        "id": "4OxEKodhnSj5"
      },
      "outputs": [],
      "source": [
        "df = df.drop('Status', axis=1)"
      ]
    },
    {
      "cell_type": "code",
      "execution_count": null,
      "metadata": {
        "id": "KqIHv9XTr9nQ"
      },
      "outputs": [],
      "source": [
        "df['No_rooms'] = df['No_rooms'].astype(int)\n",
        "df['No_bathrooms'] = df['No_bathrooms'].astype(int)"
      ]
    },
    {
      "cell_type": "code",
      "execution_count": null,
      "metadata": {
        "id": "wPJJCiXwrZfX"
      },
      "outputs": [],
      "source": [
        "df['Area'] = df['Area'].str.replace(',', '.').astype(float)\n"
      ]
    },
    {
      "cell_type": "code",
      "execution_count": null,
      "metadata": {
        "id": "pD_n7hvYrZRH"
      },
      "outputs": [],
      "source": [
        "df['Price/m2'] = df['Price'] / df['Area']"
      ]
    },
    {
      "cell_type": "code",
      "execution_count": null,
      "metadata": {
        "colab": {
          "base_uri": "https://localhost:8080/",
          "height": 421
        },
        "id": "qBPnOttMrdmL",
        "outputId": "4f0bf495-d5c0-419b-bf32-4d6380ebbca6"
      },
      "outputs": [
        {
          "data": {
            "text/html": [
              "\n",
              "  <div id=\"df-ab61d177-27f2-44a5-9afd-0ad1adf8e2b1\" class=\"colab-df-container\">\n",
              "    <div>\n",
              "<style scoped>\n",
              "    .dataframe tbody tr th:only-of-type {\n",
              "        vertical-align: middle;\n",
              "    }\n",
              "\n",
              "    .dataframe tbody tr th {\n",
              "        vertical-align: top;\n",
              "    }\n",
              "\n",
              "    .dataframe thead th {\n",
              "        text-align: right;\n",
              "    }\n",
              "</style>\n",
              "<table border=\"1\" class=\"dataframe\">\n",
              "  <thead>\n",
              "    <tr style=\"text-align: right;\">\n",
              "      <th></th>\n",
              "      <th>Price</th>\n",
              "      <th>Description</th>\n",
              "      <th>Location</th>\n",
              "      <th>Area</th>\n",
              "      <th>No_rooms</th>\n",
              "      <th>No_bathrooms</th>\n",
              "      <th>City</th>\n",
              "      <th>Category</th>\n",
              "      <th>Price/m2</th>\n",
              "    </tr>\n",
              "  </thead>\n",
              "  <tbody>\n",
              "    <tr>\n",
              "      <th>0</th>\n",
              "      <td>300</td>\n",
              "      <td>2+1 APARTMENT FOR RENT IN ILIRIA BEACH!!</td>\n",
              "      <td></td>\n",
              "      <td>95.0</td>\n",
              "      <td>2</td>\n",
              "      <td>1</td>\n",
              "      <td>Durrës</td>\n",
              "      <td>Rent</td>\n",
              "      <td>3.157895</td>\n",
              "    </tr>\n",
              "    <tr>\n",
              "      <th>1</th>\n",
              "      <td>350</td>\n",
              "      <td>APARTMENT 1+1 FOR RENT</td>\n",
              "      <td></td>\n",
              "      <td>90.0</td>\n",
              "      <td>1</td>\n",
              "      <td>1</td>\n",
              "      <td>Vlorë</td>\n",
              "      <td>Rent</td>\n",
              "      <td>3.888889</td>\n",
              "    </tr>\n",
              "    <tr>\n",
              "      <th>2</th>\n",
              "      <td>78200</td>\n",
              "      <td>1+1 APARTMENT FOR SALE IN MAL TE ROBIT!</td>\n",
              "      <td></td>\n",
              "      <td>68.0</td>\n",
              "      <td>1</td>\n",
              "      <td>1</td>\n",
              "      <td>Durrës</td>\n",
              "      <td>Sale</td>\n",
              "      <td>1150.000000</td>\n",
              "    </tr>\n",
              "    <tr>\n",
              "      <th>3</th>\n",
              "      <td>78200</td>\n",
              "      <td>1+1 APARTMENT FOR SALE IN MAL TE ROBIT!</td>\n",
              "      <td></td>\n",
              "      <td>68.0</td>\n",
              "      <td>1</td>\n",
              "      <td>1</td>\n",
              "      <td>Durrës</td>\n",
              "      <td>Sale</td>\n",
              "      <td>1150.000000</td>\n",
              "    </tr>\n",
              "    <tr>\n",
              "      <th>4</th>\n",
              "      <td>600</td>\n",
              "      <td>1+1 APARTMENT FOR RENT MUNICIPALITY OF PARIS!</td>\n",
              "      <td>Kompleksi Kika 1</td>\n",
              "      <td>70.0</td>\n",
              "      <td>1</td>\n",
              "      <td>1</td>\n",
              "      <td>Tirana</td>\n",
              "      <td>Rent</td>\n",
              "      <td>8.571429</td>\n",
              "    </tr>\n",
              "    <tr>\n",
              "      <th>5</th>\n",
              "      <td>1200</td>\n",
              "      <td>SUPER APARTMENT FOR RENT 2+1+2 NEAR THE BOTANI...</td>\n",
              "      <td></td>\n",
              "      <td>125.0</td>\n",
              "      <td>2</td>\n",
              "      <td>2</td>\n",
              "      <td>Tirana</td>\n",
              "      <td>Rent</td>\n",
              "      <td>9.600000</td>\n",
              "    </tr>\n",
              "    <tr>\n",
              "      <th>7</th>\n",
              "      <td>310000</td>\n",
              "      <td>APARTMENT 3+1+2 FOR SALE IN \"DRY LAKE\"!</td>\n",
              "      <td>Liqeni i Thate</td>\n",
              "      <td>180.0</td>\n",
              "      <td>3</td>\n",
              "      <td>2</td>\n",
              "      <td>Tirana</td>\n",
              "      <td>Sale</td>\n",
              "      <td>1722.222222</td>\n",
              "    </tr>\n",
              "    <tr>\n",
              "      <th>8</th>\n",
              "      <td>700</td>\n",
              "      <td>APARTMENT 2 +1+2 FOR RENT NEAR THE MUNICIPALIT...</td>\n",
              "      <td></td>\n",
              "      <td>97.0</td>\n",
              "      <td>2</td>\n",
              "      <td>2</td>\n",
              "      <td>Tirana</td>\n",
              "      <td>Rent</td>\n",
              "      <td>7.216495</td>\n",
              "    </tr>\n",
              "  </tbody>\n",
              "</table>\n",
              "</div>\n",
              "    <div class=\"colab-df-buttons\">\n",
              "\n",
              "  <div class=\"colab-df-container\">\n",
              "    <button class=\"colab-df-convert\" onclick=\"convertToInteractive('df-ab61d177-27f2-44a5-9afd-0ad1adf8e2b1')\"\n",
              "            title=\"Convert this dataframe to an interactive table.\"\n",
              "            style=\"display:none;\">\n",
              "\n",
              "  <svg xmlns=\"http://www.w3.org/2000/svg\" height=\"24px\" viewBox=\"0 -960 960 960\">\n",
              "    <path d=\"M120-120v-720h720v720H120Zm60-500h600v-160H180v160Zm220 220h160v-160H400v160Zm0 220h160v-160H400v160ZM180-400h160v-160H180v160Zm440 0h160v-160H620v160ZM180-180h160v-160H180v160Zm440 0h160v-160H620v160Z\"/>\n",
              "  </svg>\n",
              "    </button>\n",
              "\n",
              "  <style>\n",
              "    .colab-df-container {\n",
              "      display:flex;\n",
              "      gap: 12px;\n",
              "    }\n",
              "\n",
              "    .colab-df-convert {\n",
              "      background-color: #E8F0FE;\n",
              "      border: none;\n",
              "      border-radius: 50%;\n",
              "      cursor: pointer;\n",
              "      display: none;\n",
              "      fill: #1967D2;\n",
              "      height: 32px;\n",
              "      padding: 0 0 0 0;\n",
              "      width: 32px;\n",
              "    }\n",
              "\n",
              "    .colab-df-convert:hover {\n",
              "      background-color: #E2EBFA;\n",
              "      box-shadow: 0px 1px 2px rgba(60, 64, 67, 0.3), 0px 1px 3px 1px rgba(60, 64, 67, 0.15);\n",
              "      fill: #174EA6;\n",
              "    }\n",
              "\n",
              "    .colab-df-buttons div {\n",
              "      margin-bottom: 4px;\n",
              "    }\n",
              "\n",
              "    [theme=dark] .colab-df-convert {\n",
              "      background-color: #3B4455;\n",
              "      fill: #D2E3FC;\n",
              "    }\n",
              "\n",
              "    [theme=dark] .colab-df-convert:hover {\n",
              "      background-color: #434B5C;\n",
              "      box-shadow: 0px 1px 3px 1px rgba(0, 0, 0, 0.15);\n",
              "      filter: drop-shadow(0px 1px 2px rgba(0, 0, 0, 0.3));\n",
              "      fill: #FFFFFF;\n",
              "    }\n",
              "  </style>\n",
              "\n",
              "    <script>\n",
              "      const buttonEl =\n",
              "        document.querySelector('#df-ab61d177-27f2-44a5-9afd-0ad1adf8e2b1 button.colab-df-convert');\n",
              "      buttonEl.style.display =\n",
              "        google.colab.kernel.accessAllowed ? 'block' : 'none';\n",
              "\n",
              "      async function convertToInteractive(key) {\n",
              "        const element = document.querySelector('#df-ab61d177-27f2-44a5-9afd-0ad1adf8e2b1');\n",
              "        const dataTable =\n",
              "          await google.colab.kernel.invokeFunction('convertToInteractive',\n",
              "                                                    [key], {});\n",
              "        if (!dataTable) return;\n",
              "\n",
              "        const docLinkHtml = 'Like what you see? Visit the ' +\n",
              "          '<a target=\"_blank\" href=https://colab.research.google.com/notebooks/data_table.ipynb>data table notebook</a>'\n",
              "          + ' to learn more about interactive tables.';\n",
              "        element.innerHTML = '';\n",
              "        dataTable['output_type'] = 'display_data';\n",
              "        await google.colab.output.renderOutput(dataTable, element);\n",
              "        const docLink = document.createElement('div');\n",
              "        docLink.innerHTML = docLinkHtml;\n",
              "        element.appendChild(docLink);\n",
              "      }\n",
              "    </script>\n",
              "  </div>\n",
              "\n",
              "\n",
              "<div id=\"df-38695887-402a-4f5a-867b-23b2a01ebd80\">\n",
              "  <button class=\"colab-df-quickchart\" onclick=\"quickchart('df-38695887-402a-4f5a-867b-23b2a01ebd80')\"\n",
              "            title=\"Suggest charts.\"\n",
              "            style=\"display:none;\">\n",
              "\n",
              "<svg xmlns=\"http://www.w3.org/2000/svg\" height=\"24px\"viewBox=\"0 0 24 24\"\n",
              "     width=\"24px\">\n",
              "    <g>\n",
              "        <path d=\"M19 3H5c-1.1 0-2 .9-2 2v14c0 1.1.9 2 2 2h14c1.1 0 2-.9 2-2V5c0-1.1-.9-2-2-2zM9 17H7v-7h2v7zm4 0h-2V7h2v10zm4 0h-2v-4h2v4z\"/>\n",
              "    </g>\n",
              "</svg>\n",
              "  </button>\n",
              "\n",
              "<style>\n",
              "  .colab-df-quickchart {\n",
              "      --bg-color: #E8F0FE;\n",
              "      --fill-color: #1967D2;\n",
              "      --hover-bg-color: #E2EBFA;\n",
              "      --hover-fill-color: #174EA6;\n",
              "      --disabled-fill-color: #AAA;\n",
              "      --disabled-bg-color: #DDD;\n",
              "  }\n",
              "\n",
              "  [theme=dark] .colab-df-quickchart {\n",
              "      --bg-color: #3B4455;\n",
              "      --fill-color: #D2E3FC;\n",
              "      --hover-bg-color: #434B5C;\n",
              "      --hover-fill-color: #FFFFFF;\n",
              "      --disabled-bg-color: #3B4455;\n",
              "      --disabled-fill-color: #666;\n",
              "  }\n",
              "\n",
              "  .colab-df-quickchart {\n",
              "    background-color: var(--bg-color);\n",
              "    border: none;\n",
              "    border-radius: 50%;\n",
              "    cursor: pointer;\n",
              "    display: none;\n",
              "    fill: var(--fill-color);\n",
              "    height: 32px;\n",
              "    padding: 0;\n",
              "    width: 32px;\n",
              "  }\n",
              "\n",
              "  .colab-df-quickchart:hover {\n",
              "    background-color: var(--hover-bg-color);\n",
              "    box-shadow: 0 1px 2px rgba(60, 64, 67, 0.3), 0 1px 3px 1px rgba(60, 64, 67, 0.15);\n",
              "    fill: var(--button-hover-fill-color);\n",
              "  }\n",
              "\n",
              "  .colab-df-quickchart-complete:disabled,\n",
              "  .colab-df-quickchart-complete:disabled:hover {\n",
              "    background-color: var(--disabled-bg-color);\n",
              "    fill: var(--disabled-fill-color);\n",
              "    box-shadow: none;\n",
              "  }\n",
              "\n",
              "  .colab-df-spinner {\n",
              "    border: 2px solid var(--fill-color);\n",
              "    border-color: transparent;\n",
              "    border-bottom-color: var(--fill-color);\n",
              "    animation:\n",
              "      spin 1s steps(1) infinite;\n",
              "  }\n",
              "\n",
              "  @keyframes spin {\n",
              "    0% {\n",
              "      border-color: transparent;\n",
              "      border-bottom-color: var(--fill-color);\n",
              "      border-left-color: var(--fill-color);\n",
              "    }\n",
              "    20% {\n",
              "      border-color: transparent;\n",
              "      border-left-color: var(--fill-color);\n",
              "      border-top-color: var(--fill-color);\n",
              "    }\n",
              "    30% {\n",
              "      border-color: transparent;\n",
              "      border-left-color: var(--fill-color);\n",
              "      border-top-color: var(--fill-color);\n",
              "      border-right-color: var(--fill-color);\n",
              "    }\n",
              "    40% {\n",
              "      border-color: transparent;\n",
              "      border-right-color: var(--fill-color);\n",
              "      border-top-color: var(--fill-color);\n",
              "    }\n",
              "    60% {\n",
              "      border-color: transparent;\n",
              "      border-right-color: var(--fill-color);\n",
              "    }\n",
              "    80% {\n",
              "      border-color: transparent;\n",
              "      border-right-color: var(--fill-color);\n",
              "      border-bottom-color: var(--fill-color);\n",
              "    }\n",
              "    90% {\n",
              "      border-color: transparent;\n",
              "      border-bottom-color: var(--fill-color);\n",
              "    }\n",
              "  }\n",
              "</style>\n",
              "\n",
              "  <script>\n",
              "    async function quickchart(key) {\n",
              "      const quickchartButtonEl =\n",
              "        document.querySelector('#' + key + ' button');\n",
              "      quickchartButtonEl.disabled = true;  // To prevent multiple clicks.\n",
              "      quickchartButtonEl.classList.add('colab-df-spinner');\n",
              "      try {\n",
              "        const charts = await google.colab.kernel.invokeFunction(\n",
              "            'suggestCharts', [key], {});\n",
              "      } catch (error) {\n",
              "        console.error('Error during call to suggestCharts:', error);\n",
              "      }\n",
              "      quickchartButtonEl.classList.remove('colab-df-spinner');\n",
              "      quickchartButtonEl.classList.add('colab-df-quickchart-complete');\n",
              "    }\n",
              "    (() => {\n",
              "      let quickchartButtonEl =\n",
              "        document.querySelector('#df-38695887-402a-4f5a-867b-23b2a01ebd80 button');\n",
              "      quickchartButtonEl.style.display =\n",
              "        google.colab.kernel.accessAllowed ? 'block' : 'none';\n",
              "    })();\n",
              "  </script>\n",
              "</div>\n",
              "    </div>\n",
              "  </div>\n"
            ],
            "text/plain": [
              "    Price                                        Description  \\\n",
              "0     300           2+1 APARTMENT FOR RENT IN ILIRIA BEACH!!   \n",
              "1     350                             APARTMENT 1+1 FOR RENT   \n",
              "2   78200            1+1 APARTMENT FOR SALE IN MAL TE ROBIT!   \n",
              "3   78200            1+1 APARTMENT FOR SALE IN MAL TE ROBIT!   \n",
              "4     600      1+1 APARTMENT FOR RENT MUNICIPALITY OF PARIS!   \n",
              "5    1200  SUPER APARTMENT FOR RENT 2+1+2 NEAR THE BOTANI...   \n",
              "7  310000            APARTMENT 3+1+2 FOR SALE IN \"DRY LAKE\"!   \n",
              "8     700  APARTMENT 2 +1+2 FOR RENT NEAR THE MUNICIPALIT...   \n",
              "\n",
              "           Location   Area  No_rooms  No_bathrooms    City Category  \\\n",
              "0                     95.0         2             1  Durrës     Rent   \n",
              "1                     90.0         1             1   Vlorë     Rent   \n",
              "2                     68.0         1             1  Durrës     Sale   \n",
              "3                     68.0         1             1  Durrës     Sale   \n",
              "4  Kompleksi Kika 1   70.0         1             1  Tirana     Rent   \n",
              "5                    125.0         2             2  Tirana     Rent   \n",
              "7    Liqeni i Thate  180.0         3             2  Tirana     Sale   \n",
              "8                     97.0         2             2  Tirana     Rent   \n",
              "\n",
              "      Price/m2  \n",
              "0     3.157895  \n",
              "1     3.888889  \n",
              "2  1150.000000  \n",
              "3  1150.000000  \n",
              "4     8.571429  \n",
              "5     9.600000  \n",
              "7  1722.222222  \n",
              "8     7.216495  "
            ]
          },
          "execution_count": 153,
          "metadata": {},
          "output_type": "execute_result"
        }
      ],
      "source": [
        "df.head(8)"
      ]
    },
    {
      "cell_type": "code",
      "execution_count": null,
      "metadata": {
        "id": "GYwuKzUNrdjL"
      },
      "outputs": [],
      "source": []
    }
  ],
  "metadata": {
    "colab": {
      "provenance": []
    },
    "kernelspec": {
      "display_name": "Python 3",
      "name": "python3"
    },
    "language_info": {
      "name": "python"
    }
  },
  "nbformat": 4,
  "nbformat_minor": 0
}
